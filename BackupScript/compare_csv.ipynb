{
 "cells": [
  {
   "cell_type": "code",
   "execution_count": 37,
   "id": "40a32664",
   "metadata": {},
   "outputs": [
    {
     "name": "stdout",
     "output_type": "stream",
     "text": [
      "[DIFFER] spent_all.csv differs:\n",
      "\n",
      "Row 4224 differences:\n",
      " year_base  year_copy  month_base  month_copy  day_base  day_copy category_base category_copy fix_variable_base fix_variable_copy Description_base                      Description_copy  Amount_base  Amount_copy Description_original_base             Description_original_copy\n",
      "      2025       2025           1           1        27        27       housing       housing               fix               fix           yassou gaspard lhermitte and yasmine starein      -9783.0      -9783.0                    yassou Gaspard lhermitte and Yasmine starein\n"
     ]
    }
   ],
   "source": [
    "import os\n",
    "import pandas as pd\n",
    "from pandas.testing import assert_frame_equal\n",
    "def print_side_by_side_differences(df_base, df_copy, diff_mask):\n",
    "    diff_rows = diff_mask.any(axis=1)\n",
    "    indices = diff_rows[diff_rows].index\n",
    "\n",
    "    for idx in indices:\n",
    "        print(f\"\\nRow {idx} differences:\")\n",
    "\n",
    "        combined = pd.DataFrame()\n",
    "        for col in df_base.columns:\n",
    "            combined[f\"{col}_base\"] = [df_base.at[idx, col]]\n",
    "            combined[f\"{col}_copy\"] = [df_copy.at[idx, col]]\n",
    "\n",
    "        print(combined.to_string(index=False))\n",
    "\n",
    "\n",
    "def compare_csv_files(base_dir, copy_dir):\n",
    "    base_files = [f for f in os.listdir(base_dir) if f.endswith('.csv')]\n",
    "    copy_files = [f for f in os.listdir(copy_dir) if f.endswith('.csv')]\n",
    "\n",
    "    common_files = set(base_files) & set(copy_files)\n",
    "\n",
    "    for filename in common_files:\n",
    "        if filename == \"spent_all.csv\":  # or remove this if you want to compare all csv files\n",
    "            base_path = os.path.join(base_dir, filename)\n",
    "            copy_path = os.path.join(copy_dir, filename)\n",
    "\n",
    "            try:\n",
    "                df_base = pd.read_csv(base_path)\n",
    "                df_copy = pd.read_csv(copy_path)\n",
    "\n",
    "                assert_frame_equal(df_base.reset_index(drop=True), df_copy.reset_index(drop=True), check_dtype=False)\n",
    "                print(f\"[OK] {filename} is identical.\")\n",
    "            except AssertionError:\n",
    "                print(f\"[DIFFER] {filename} differs:\")\n",
    "                diff_mask = (df_base != df_copy) & ~(df_base.isna() & df_copy.isna())\n",
    "                if diff_mask.any().any():\n",
    "                    print_side_by_side_differences(df_base, df_copy, diff_mask)\n",
    "                else:\n",
    "                    print(\"Difference detected but unable to pinpoint differences clearly.\")\n",
    "            except Exception as ex:\n",
    "                print(f\"[ERROR] Could not compare {filename}: {ex}\")\n",
    "\n",
    "    base_only = set(base_files) - common_files\n",
    "    copy_only = set(copy_files) - common_files\n",
    "    if base_only:\n",
    "        print(f\"Files only in base directory: {base_only}\")\n",
    "    if copy_only:\n",
    "        print(f\"Files only in copy directory: {copy_only}\")\n",
    "        \n",
    "if __name__ == \"__main__\":\n",
    "    base_repo = \"datasets\"  # replace with your base repo path\n",
    "    copy_repo = os.path.join(base_repo, \"COPY\")\n",
    "    compare_csv_files(base_repo, copy_repo)\n"
   ]
  }
 ],
 "metadata": {
  "kernelspec": {
   "display_name": "base",
   "language": "python",
   "name": "python3"
  },
  "language_info": {
   "codemirror_mode": {
    "name": "ipython",
    "version": 3
   },
   "file_extension": ".py",
   "mimetype": "text/x-python",
   "name": "python",
   "nbconvert_exporter": "python",
   "pygments_lexer": "ipython3",
   "version": "3.12.4"
  }
 },
 "nbformat": 4,
 "nbformat_minor": 5
}
